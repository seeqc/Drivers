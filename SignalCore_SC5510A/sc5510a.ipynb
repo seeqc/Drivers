{
 "metadata": {
  "language_info": {
   "codemirror_mode": {
    "name": "ipython",
    "version": 3
   },
   "file_extension": ".py",
   "mimetype": "text/x-python",
   "name": "python",
   "nbconvert_exporter": "python",
   "pygments_lexer": "ipython3",
   "version": "3.7.4-final"
  },
  "orig_nbformat": 2,
  "kernelspec": {
   "name": "python3",
   "display_name": "Python 3",
   "language": "python"
  }
 },
 "nbformat": 4,
 "nbformat_minor": 2,
 "cells": [
  {
   "cell_type": "code",
   "execution_count": 1,
   "metadata": {},
   "outputs": [],
   "source": [
    "import ctypes"
   ]
  },
  {
   "cell_type": "code",
   "execution_count": 3,
   "metadata": {},
   "outputs": [],
   "source": [
    "LB_DLL = 'C:\\\\Program Files\\\\SignalCore\\\\SC5510A\\\\api\\\\scipci\\\\c\\\\lib\\\\x64\\\\sc5510a.dll'\n",
    "lb_dll = ctypes.windll.LoadLibrary(LB_DLL)"
   ]
  },
  {
   "source": [
    "# Connect"
   ],
   "cell_type": "markdown",
   "metadata": {}
  },
  {
   "cell_type": "code",
   "execution_count": null,
   "metadata": {},
   "outputs": [],
   "source": [
    "address = b'100024C1'\n",
    "_handle = ctypes.c_int(0)"
   ]
  },
  {
   "cell_type": "code",
   "execution_count": 67,
   "metadata": {},
   "outputs": [
    {
     "output_type": "stream",
     "name": "stdout",
     "text": [
      "1 SC5510A modules found\n\nDevice Id: b'100024C1'\nConnected\n"
     ]
    }
   ],
   "source": [
    "# Max devices and descriptor size from header file\n",
    "MAXDEVICES = 128\n",
    "MAXDESCRIPTORSIZE = 9      \n",
    "\n",
    "# Create memory pointers\n",
    "string_buffers = [ctypes.create_string_buffer(MAXDESCRIPTORSIZE) for i in range(MAXDEVICES)]\n",
    "pointers = (ctypes.c_char_p*MAXDEVICES)(*map(ctypes.addressof, string_buffers))\n",
    "\n",
    "size = ctypes.c_int(0)\n",
    "\n",
    "lb_dll.sc5510a_search_devices(ctypes.byref(pointers), ctypes.byref(size))\n",
    "num_devices = size.value\n",
    "\n",
    "if num_devices > 0:\n",
    "    print(f'{num_devices} SC5510A modules found')\n",
    "for i in range(size.value):\n",
    "    print(f'\\nDevice Id: {pointers[i]}')\n",
    "    \n",
    "status = lb_dll.sc5510a_open_device(pointers[0], ctypes.byref(_handle))\n",
    "if status == 0:\n",
    "    print('Connected')"
   ]
  },
  {
   "source": [
    "# Device Info"
   ],
   "cell_type": "markdown",
   "metadata": {}
  },
  {
   "cell_type": "code",
   "execution_count": 68,
   "metadata": {},
   "outputs": [],
   "source": [
    "class date(ctypes.Structure):\n",
    "    _fields_ = [\n",
    "        ('year', ctypes.c_ubyte),\n",
    "        ('month', ctypes.c_ubyte),\n",
    "        ('day', ctypes.c_ubyte),\n",
    "        ('hour', ctypes.c_ubyte)\n",
    "    ]\n",
    "\n",
    "class deviceInfo_t(ctypes.Structure):\n",
    "    \"\"\"\n",
    "    Structure definition for device info\n",
    "    \"\"\"\n",
    "    _fields_ = [('product_serial_number', ctypes.c_ulong),\n",
    "                ('hardware_revision', ctypes.c_float),\n",
    "                ('firmware_revision', ctypes.c_float),\n",
    "                ('man_date', date)]\n",
    "    \n",
    "    def print_params(self):\n",
    "        print('\\n-Device Info-\\n'\n",
    "              + f'\\tproduct_serial_number: {self.product_serial_number:x}\\n'\n",
    "              + f'\\thardware_revision: {self.hardware_revision:.2f}\\n'\n",
    "              + f'\\tfirmware_revision: {self.firmware_revision:.2f}\\n'\n",
    "              + f'\\tman_date: {self.man_date.year}'\n",
    "              + f'-{self.man_date.month}'\n",
    "              + f'-{self.man_date.day}'\n",
    "              + f'-{self.man_date.hour}\\n'\n",
    "              )"
   ]
  },
  {
   "cell_type": "code",
   "execution_count": 69,
   "metadata": {},
   "outputs": [
    {
     "output_type": "stream",
     "name": "stdout",
     "text": [
      "\n-Device Info-\n\tproduct_serial_number: 100024c1\n\thardware_revision: 13.00\n\tfirmware_revision: 3.21\n\tman_date: 20-7-17-11\n\n"
     ]
    }
   ],
   "source": [
    "deviceInfo = deviceInfo_t()\n",
    "lb_dll.sc5510a_get_device_info(_handle, ctypes.byref(deviceInfo))\n",
    "deviceInfo.print_params()"
   ]
  },
  {
   "source": [
    "# Get Status"
   ],
   "cell_type": "markdown",
   "metadata": {}
  },
  {
   "cell_type": "code",
   "execution_count": 70,
   "metadata": {},
   "outputs": [],
   "source": [
    "class operateStatus_t(ctypes.Structure):\n",
    "    \"\"\"\n",
    "    Structure definition for operate status\n",
    "    \"\"\"\n",
    "\n",
    "    _fields_ = [\n",
    "        ('rf1_lock_mode', ctypes.c_ubyte),\n",
    "        ('rf1_loop_gain', ctypes.c_ubyte),\n",
    "        ('device_access', ctypes.c_ubyte),\n",
    "        ('rf2_standby', ctypes.c_ubyte),\n",
    "        ('rf1_standby', ctypes.c_ubyte),\n",
    "        ('auto_pwr_disable', ctypes.c_ubyte),\n",
    "        ('alc_mode', ctypes.c_ubyte),\n",
    "        ('rf1_out_enable', ctypes.c_ubyte),\n",
    "        ('ext_ref_lock_enable', ctypes.c_ubyte),\n",
    "        ('ext_ref_detect', ctypes.c_ubyte),\n",
    "        ('ref_out_select', ctypes.c_ubyte),\n",
    "        ('list_mode_running', ctypes.c_ubyte),\n",
    "        ('rf1_mode', ctypes.c_ubyte),\n",
    "        ('over_temp', ctypes.c_ubyte),\n",
    "        ('pxi_clk_enable', ctypes.c_ubyte),\n",
    "        ('harmonic_ss', ctypes.c_ubyte)\n",
    "    ]\n",
    "\n",
    "class listMode_t(ctypes.Structure):\n",
    "    \"\"\"\n",
    "    Structure definition for list mode\n",
    "    \"\"\"\n",
    "    _fields_ = [\n",
    "        ('sss_mode', ctypes.c_ubyte),\n",
    "        ('sweep_dir', ctypes.c_ubyte),\n",
    "        ('tri_waveform', ctypes.c_ubyte),\n",
    "        ('hw_trigger', ctypes.c_ubyte),\n",
    "        ('step_on_hw_trigger', ctypes.c_ubyte),\n",
    "        ('return_to_start', ctypes.c_ubyte),\n",
    "        ('trig_out_enable', ctypes.c_ubyte),\n",
    "        ('trig_out_on_cycle', ctypes.c_ubyte)\n",
    "    ]\n",
    "\n",
    "class pllStatus_t(ctypes.Structure):\n",
    "    \"\"\"\n",
    "    Structure definition for PLL status\n",
    "    \"\"\"\n",
    "    _fields_ = [\n",
    "        ('sum_pll_ld', ctypes.c_ubyte),\n",
    "        ('crs_pll_ld', ctypes.c_ubyte),\n",
    "        ('fine_pll_ld', ctypes.c_ubyte),\n",
    "        ('crs_ref_pll_ld', ctypes.c_ubyte),\n",
    "        ('crs_aux_pll_ld', ctypes.c_ubyte),\n",
    "        ('ref_100_pll_ld', ctypes.c_ubyte),\n",
    "        ('ref_10_pll_ld', ctypes.c_ubyte),\n",
    "        ('rf2_pll_ld', ctypes.c_ubyte)\n",
    "    ]\n",
    "\n",
    "class deviceStatus_t(ctypes.Structure):\n",
    "    \"\"\"\n",
    "    Structure definition for device status\n",
    "    \"\"\"\n",
    "    _fields_ = [\n",
    "        ('list_mode', listMode_t),\n",
    "        ('operate_status', operateStatus_t),\n",
    "        ('pll_status', pllStatus_t)\n",
    "    ]\n",
    "\n",
    "    def print_params(self):\n",
    "        print('\\n-Device Status-\\n'\n",
    "                + '\\tlist_mode:\\n'\n",
    "                + f'\\t\\tsss_mode: {self.list_mode.sss_mode}\\n'\n",
    "                + f'\\t\\tsweep_dir: {self.list_mode.sweep_dir}\\n'\n",
    "                + f'\\t\\ttri_waveform: {self.list_mode.tri_waveform}\\n'\n",
    "                + f'\\t\\thw_trigger: {self.list_mode.hw_trigger}\\n'\n",
    "                + f'\\t\\tstep_on_hw_trigger: {self.list_mode.step_on_hw_trigger}\\n'\n",
    "                + f'\\t\\treturn_to_start: {self.list_mode.return_to_start}\\n'\n",
    "                + f'\\t\\ttrig_out_enable: {self.list_mode.trig_out_enable}\\n'\n",
    "                + f'\\t\\ttrig_out_on_cycle: {self.list_mode.trig_out_on_cycle}\\n'\n",
    "                + '\\toperate_status:\\n'\n",
    "                + f'\\t\\trf1_lock_mode: {self.operate_status.rf1_lock_mode}\\n'\n",
    "                + f'\\t\\trf1_loop_gain: {self.operate_status.rf1_loop_gain}\\n'\n",
    "                + f'\\t\\tdevice_access: {self.operate_status.device_access}\\n'\n",
    "                + f'\\t\\trf2_standby: {self.operate_status.rf2_standby}\\n'\n",
    "                + f'\\t\\trf1_standby: {self.operate_status.rf1_standby}\\n'\n",
    "                + f'\\t\\tauto_pwr_disable: {self.operate_status.auto_pwr_disable}\\n'\n",
    "                + f'\\t\\talc_mode: {self.operate_status.alc_mode}\\n'\n",
    "                + f'\\t\\trf1_out_enable: {self.operate_status.rf1_out_enable}\\n'\n",
    "                + f'\\t\\text_ref_lock_enable: {self.operate_status.ext_ref_lock_enable}\\n'\n",
    "                + f'\\t\\text_ref_detect: {self.operate_status.ext_ref_detect}\\n'\n",
    "                + f'\\t\\tref_out_select: {self.operate_status.ref_out_select}\\n'\n",
    "                + f'\\t\\tlist_mode_running: {self.operate_status.list_mode_running}\\n'\n",
    "                + f'\\t\\trf1_mode: {self.operate_status.rf1_mode}\\n'\n",
    "                + f'\\t\\tover_temp: {self.operate_status.over_temp}\\n'\n",
    "                + f'\\t\\tpxi_clk_enable: {self.operate_status.pxi_clk_enable}\\n'\n",
    "                + f'\\t\\tharmonic_ss: {self.operate_status.harmonic_ss}\\n'\n",
    "                + '\\tpll_status:\\n'\n",
    "                + f'\\t\\tsum_pll_ld: {self.pll_status.sum_pll_ld}\\n'\n",
    "                + f'\\t\\tcrs_pll_ld: {self.pll_status.crs_pll_ld}\\n'\n",
    "                + f'\\t\\tfine_pll_ld: {self.pll_status.fine_pll_ld}\\n'\n",
    "                + f'\\t\\tcrs_ref_pll_ld: {self.pll_status.crs_ref_pll_ld}\\n'\n",
    "                + f'\\t\\tcrs_aux_pll_ld: {self.pll_status.crs_aux_pll_ld}\\n'\n",
    "                + f'\\t\\tref_100_pll_ld: {self.pll_status.ref_100_pll_ld}\\n'\n",
    "                + f'\\t\\tref_10_pll_ld: {self.pll_status.ref_10_pll_ld}\\n'\n",
    "                + f'\\t\\trf2_pll_ld: {self.pll_status.rf2_pll_ld}\\n'\n",
    "                )"
   ]
  },
  {
   "cell_type": "code",
   "execution_count": 71,
   "metadata": {},
   "outputs": [
    {
     "output_type": "stream",
     "name": "stdout",
     "text": [
      "\n-Device Status-\n\tlist_mode:\n\t\tsss_mode: 1\n\t\tsweep_dir: 0\n\t\ttri_waveform: 1\n\t\thw_trigger: 0\n\t\tstep_on_hw_trigger: 0\n\t\treturn_to_start: 1\n\t\ttrig_out_enable: 0\n\t\ttrig_out_on_cycle: 0\n\toperate_status:\n\t\trf1_lock_mode: 0\n\t\trf1_loop_gain: 0\n\t\tdevice_access: 1\n\t\trf2_standby: 0\n\t\trf1_standby: 0\n\t\tauto_pwr_disable: 0\n\t\talc_mode: 0\n\t\trf1_out_enable: 1\n\t\text_ref_lock_enable: 1\n\t\text_ref_detect: 0\n\t\tref_out_select: 0\n\t\tlist_mode_running: 0\n\t\trf1_mode: 0\n\t\tover_temp: 0\n\t\tpxi_clk_enable: 0\n\t\tharmonic_ss: 0\n\tpll_status:\n\t\tsum_pll_ld: 1\n\t\tcrs_pll_ld: 1\n\t\tfine_pll_ld: 1\n\t\tcrs_ref_pll_ld: 1\n\t\tcrs_aux_pll_ld: 0\n\t\tref_100_pll_ld: 1\n\t\tref_10_pll_ld: 0\n\t\trf2_pll_ld: 0\n\n"
     ]
    }
   ],
   "source": [
    "deviceStatus = deviceStatus_t()\n",
    "lb_dll.sc5510a_get_device_status(_handle, ctypes.byref(deviceStatus))\n",
    "deviceStatus.print_params()"
   ]
  },
  {
   "source": [
    "# Get RF Parameters"
   ],
   "cell_type": "markdown",
   "metadata": {}
  },
  {
   "cell_type": "code",
   "execution_count": 72,
   "metadata": {},
   "outputs": [],
   "source": [
    "class rfParameters_t(ctypes.Structure):\n",
    "    \"\"\"\n",
    "    Structure definition for rf parameters\n",
    "    \"\"\"\n",
    "    _fields_ = [('rf1_freq', ctypes.c_ulonglong),\n",
    "                ('start_freq', ctypes.c_ulonglong),\n",
    "                ('stop_freq', ctypes.c_ulonglong),\n",
    "                ('step_freq', ctypes.c_ulonglong),\n",
    "                ('sweep_dwell_time', ctypes.c_ulong),\n",
    "                ('sweep_cycles', ctypes.c_ulong),\n",
    "                ('buffer_points', ctypes.c_ulong),\n",
    "                ('rf_level', ctypes.c_float),\n",
    "                ('rf2_freq', ctypes.c_ushort)]\n",
    "    \n",
    "    def print_params(self):\n",
    "        print('\\n-Device RF Params-\\n'\n",
    "              + '\\trf1_freq: ' + str(self.rf1_freq) + ' Hz\\n'\n",
    "              + '\\tstart_freq: ' + str(self.start_freq) + '\\n'\n",
    "              + '\\tstop_freq: ' + str(self.stop_freq) + '\\n'\n",
    "              + '\\tstep_freq: ' + str(self.step_freq) + '\\n'\n",
    "              + '\\tsweep_dwell_time: ' + str(self.sweep_dwell_time) + '\\n'\n",
    "              + '\\tsweep_cycles: ' + str(self.sweep_cycles) + '\\n'\n",
    "              + '\\tbuffer_points: ' + str(self.buffer_points) + '\\n'\n",
    "              + '\\trf_level: ' + str(self.rf_level) + ' dBm\\n'\n",
    "              + '\\trf2_freq: ' + str(self.rf2_freq) + ' MHz')"
   ]
  },
  {
   "cell_type": "code",
   "execution_count": 73,
   "metadata": {},
   "outputs": [
    {
     "output_type": "stream",
     "name": "stdout",
     "text": [
      "\n-Device RF Params-\n\trf1_freq: 6000000000 Hz\n\tstart_freq: 12000000000\n\tstop_freq: 12050000000\n\tstep_freq: 1000000\n\tsweep_dwell_time: 100\n\tsweep_cycles: 10\n\tbuffer_points: 6\n\trf_level: -10.0 dBm\n\trf2_freq: 6000 MHz\n"
     ]
    }
   ],
   "source": [
    "rfParameters = rfParameters_t()\n",
    "lb_dll.sc5510a_get_rf_parameters(_handle, ctypes.byref(rfParameters))\n",
    "rfParameters.print_params()"
   ]
  },
  {
   "cell_type": "code",
   "execution_count": null,
   "metadata": {},
   "outputs": [],
   "source": []
  }
 ]
}